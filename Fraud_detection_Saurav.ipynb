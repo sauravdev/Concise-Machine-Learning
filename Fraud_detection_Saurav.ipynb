{
  "nbformat": 4,
  "nbformat_minor": 0,
  "metadata": {
    "colab": {
      "provenance": [],
      "authorship_tag": "ABX9TyPce88Obva84Pf3ltx60Vzr",
      "include_colab_link": true
    },
    "kernelspec": {
      "name": "python3",
      "display_name": "Python 3"
    },
    "language_info": {
      "name": "python"
    }
  },
  "cells": [
    {
      "cell_type": "markdown",
      "metadata": {
        "id": "view-in-github",
        "colab_type": "text"
      },
      "source": [
        "<a href=\"https://colab.research.google.com/github/sauravdev/Concise-Machine-Learning/blob/main/Fraud_detection_Saurav.ipynb\" target=\"_parent\"><img src=\"https://colab.research.google.com/assets/colab-badge.svg\" alt=\"Open In Colab\"/></a>"
      ]
    },
    {
      "cell_type": "code",
      "execution_count": null,
      "metadata": {
        "colab": {
          "base_uri": "https://localhost:8080/"
        },
        "id": "J8bZ5M_7A7GI",
        "outputId": "ed958a11-594b-4608-efdb-66fbaa08993a"
      },
      "outputs": [
        {
          "output_type": "stream",
          "name": "stdout",
          "text": [
            "    amount       account        date    type  fraud\n",
            "0  1076.09  075673664569  2018-06-12   debit      1\n",
            "1  1248.39  067602501139  2020-05-28   debit      0\n",
            "2  7294.45  236886055294  2011-09-08   debit      0\n",
            "3   434.66  276993126043  2013-04-16   debit      0\n",
            "4  3848.44  642164390937  2012-10-04  credit      1\n"
          ]
        }
      ],
      "source": [
        "import random\n",
        "import pandas as pd\n",
        "\n",
        "# Helper function to generate a random transaction amount\n",
        "def generate_amount():\n",
        "    return round(random.uniform(0, 10000), 2)\n",
        "\n",
        "# Helper function to generate a random account number\n",
        "def generate_account():\n",
        "    return ''.join(random.choices('0123456789', k=12))\n",
        "\n",
        "# Helper function to generate a random transaction date\n",
        "def generate_date():\n",
        "    year = random.randint(2010, 2020)\n",
        "    month = random.randint(1, 12)\n",
        "    day = random.randint(1, 28)\n",
        "    return f\"{year}-{month:02d}-{day:02d}\"\n",
        "\n",
        "# Helper function to generate a random transaction type\n",
        "def generate_type():\n",
        "    return random.choice(['debit', 'credit'])\n",
        "\n",
        "# Helper function to generate a random fraud label\n",
        "def generate_fraud():\n",
        "    return random.choice([0, 1])\n",
        "\n",
        "# Helper function to generate a sample dataset\n",
        "def generate_data(n):\n",
        "    data = []\n",
        "    for i in range(n):\n",
        "        amount = generate_amount()\n",
        "        account = generate_account()\n",
        "        date = generate_date()\n",
        "        trans_type = generate_type()\n",
        "        fraud = generate_fraud()\n",
        "        data.append([amount, account, date, trans_type, fraud])\n",
        "    return data\n",
        "\n",
        "# Generate a sample dataset with 1000 transactions\n",
        "data = generate_data(1000)\n",
        "\n",
        "# Create a DataFrame from the data\n",
        "df = pd.DataFrame(data, columns=['amount', 'account', 'date', 'type', 'fraud'])\n",
        "\n",
        "# Print the first 5 rows of the DataFrame\n",
        "print(df.head())\n"
      ]
    },
    {
      "cell_type": "code",
      "source": [
        "# Check for missing values in the DataFrame\n",
        "print(df.isnull().sum())\n",
        "\n",
        "# Remove any rows with missing values\n",
        "df = df.dropna()\n",
        "\n",
        "# Check for duplicate rows in the DataFrame\n",
        "print(df.duplicated().sum())\n",
        "\n",
        "# Remove any duplicate rows\n",
        "df = df.drop_duplicates()\n",
        "\n",
        "# Check for invalid account numbers\n",
        "print(df[~df['account'].str.contains('^\\d{12}$')])\n",
        "\n",
        "# Remove any rows with invalid account numbers\n",
        "df = df[df['account'].str.contains('^\\d{12}$')]\n",
        "\n",
        "# Check for invalid date\n",
        "print(df[~df['date'].str.match(r'\\d{4}-\\d{2}-\\d{2}')])\n",
        "\n",
        "# Remove any rows with invalid date\n",
        "df = df[df['date'].str.match(r'\\d{4}-\\d{2}-\\d{2}')]\n",
        "\n",
        "#convert date to datetime object\n",
        "df['date'] = pd.to_datetime(df['date'])\n",
        "\n",
        "# Print the first 5 rows of the cleaned DataFrame\n",
        "print(df.head())\n"
      ],
      "metadata": {
        "colab": {
          "base_uri": "https://localhost:8080/"
        },
        "id": "X_nRZoSUA72Y",
        "outputId": "59c7713e-37f5-4c1b-a9de-4a80026dcace"
      },
      "execution_count": null,
      "outputs": [
        {
          "output_type": "stream",
          "name": "stdout",
          "text": [
            "amount     0\n",
            "account    0\n",
            "date       0\n",
            "type       0\n",
            "fraud      0\n",
            "dtype: int64\n",
            "0\n",
            "Empty DataFrame\n",
            "Columns: [amount, account, date, type, fraud]\n",
            "Index: []\n",
            "Empty DataFrame\n",
            "Columns: [amount, account, date, type, fraud]\n",
            "Index: []\n",
            "    amount       account       date    type  fraud\n",
            "0  1076.09  075673664569 2018-06-12   debit      1\n",
            "1  1248.39  067602501139 2020-05-28   debit      0\n",
            "2  7294.45  236886055294 2011-09-08   debit      0\n",
            "3   434.66  276993126043 2013-04-16   debit      0\n",
            "4  3848.44  642164390937 2012-10-04  credit      1\n"
          ]
        }
      ]
    },
    {
      "cell_type": "code",
      "source": [
        "import numpy as np\n",
        "\n",
        "# Create a new feature 'transaction_day'\n",
        "df['transaction_day'] = df['date'].dt.day\n",
        "\n",
        "# Create a new feature 'transaction_hour'\n",
        "df['transaction_hour'] = df['date'].dt.hour\n",
        "\n",
        "# Create a new feature 'transaction_weekday'\n",
        "df['transaction_weekday'] = df['date'].dt.weekday\n",
        "\n",
        "# Create a new feature 'transaction_weekend'\n",
        "df['transaction_weekend'] = df['transaction_weekday'].apply(lambda x: 1 if x>4 else 0)\n",
        "\n",
        "# Create a new feature 'transaction_month'\n",
        "df['transaction_month'] = df['date'].dt.month\n",
        "\n",
        "# Create a new feature 'transaction_year'\n",
        "df['transaction_year'] = df['date'].dt.year\n",
        "\n",
        "# Create a new feature 'log_amount'\n",
        "df['log_amount'] = np.log(df['amount'] + 1)\n",
        "\n",
        "# Create a new feature 'amount_bin'\n",
        "df['amount_bin'] = pd.cut(df['amount'], bins=[0, 1000, 5000, 10000], labels=['low', 'medium', 'high'])\n",
        "\n",
        "# Create a new feature 'amount_per_day'\n",
        "df['amount_per_day'] = df.groupby(['transaction_day'])['amount'].transform('sum')\n",
        "\n",
        "# Create a new feature 'amount_per_hour'\n",
        "df['amount_per_hour'] = df.groupby(['transaction_hour'])['amount'].transform('sum')\n",
        "\n",
        "# Create a new feature 'amount_per_weekday'\n",
        "df['amount_per_weekday'] = df.groupby(['transaction_weekday'])['amount'].transform('sum')\n",
        "\n",
        "# Create a new feature 'amount_per_month'\n",
        "df['amount_per_month'] = df.groupby(['transaction_month'])['amount'].transform('sum')\n",
        "\n",
        "# Create a new feature 'amount_per_year'\n",
        "df['amount_per_year'] = df.groupby(['transaction_year'])['amount'].transform('sum')\n",
        "\n",
        "# Create a new feature 'fraud_per_account'\n",
        "df['fraud_per_account'] = df.groupby(['account'])['fraud'].transform('sum')\n",
        "\n",
        "# Print the first 5 rows of the DataFrame\n",
        "print(df.head())\n"
      ],
      "metadata": {
        "colab": {
          "base_uri": "https://localhost:8080/"
        },
        "id": "XRJ4XkKAA_Ya",
        "outputId": "49ae882d-9614-4bc6-ed03-f4402d67777e"
      },
      "execution_count": null,
      "outputs": [
        {
          "output_type": "stream",
          "name": "stdout",
          "text": [
            "    amount       account       date    type  fraud  transaction_day  \\\n",
            "0  1076.09  075673664569 2018-06-12   debit      1               12   \n",
            "1  1248.39  067602501139 2020-05-28   debit      0               28   \n",
            "2  7294.45  236886055294 2011-09-08   debit      0                8   \n",
            "3   434.66  276993126043 2013-04-16   debit      0               16   \n",
            "4  3848.44  642164390937 2012-10-04  credit      1                4   \n",
            "\n",
            "   transaction_hour  transaction_weekday  transaction_weekend  \\\n",
            "0                 0                    1                    0   \n",
            "1                 0                    3                    0   \n",
            "2                 0                    3                    0   \n",
            "3                 0                    1                    0   \n",
            "4                 0                    3                    0   \n",
            "\n",
            "   transaction_month  transaction_year  log_amount amount_bin  amount_per_day  \\\n",
            "0                  6              2018    6.982018     medium       140400.09   \n",
            "1                  5              2020    7.130411     medium       205444.57   \n",
            "2                  9              2011    8.895006       high       177182.51   \n",
            "3                  4              2013    6.076862        low       227322.07   \n",
            "4                 10              2012    8.255683     medium       153438.90   \n",
            "\n",
            "   amount_per_hour  amount_per_weekday  amount_per_month  amount_per_year  \\\n",
            "0       5047314.92           702724.34         347742.25        423359.99   \n",
            "1       5047314.92           778147.69         353551.25        429051.13   \n",
            "2       5047314.92           778147.69         390662.38        409721.44   \n",
            "3       5047314.92           702724.34         358462.39        470988.63   \n",
            "4       5047314.92           778147.69         545369.44        499245.20   \n",
            "\n",
            "   fraud_per_account  \n",
            "0                  1  \n",
            "1                  0  \n",
            "2                  0  \n",
            "3                  0  \n",
            "4                  1  \n"
          ]
        }
      ]
    },
    {
      "cell_type": "code",
      "source": [
        "print(df)\n",
        "\n",
        "categorical_columns = ['type','amount_bin']\n",
        "df = pd.get_dummies(df, columns=categorical_columns)"
      ],
      "metadata": {
        "colab": {
          "base_uri": "https://localhost:8080/"
        },
        "id": "eZrr0RSPBTF9",
        "outputId": "bc74b62f-5b0f-4b74-9afd-f81929815904"
      },
      "execution_count": null,
      "outputs": [
        {
          "output_type": "stream",
          "name": "stdout",
          "text": [
            "      amount       account       date  fraud  transaction_day  \\\n",
            "0    1076.09  075673664569 2018-06-12      1               12   \n",
            "1    1248.39  067602501139 2020-05-28      0               28   \n",
            "2    7294.45  236886055294 2011-09-08      0                8   \n",
            "3     434.66  276993126043 2013-04-16      0               16   \n",
            "4    3848.44  642164390937 2012-10-04      1                4   \n",
            "..       ...           ...        ...    ...              ...   \n",
            "995  2099.18  115434251433 2013-08-15      1               15   \n",
            "996  5014.09  148737745418 2010-05-01      0                1   \n",
            "997  8057.10  986873100075 2018-02-06      0                6   \n",
            "998  7687.20  136961482909 2011-10-13      1               13   \n",
            "999  9719.25  308981220081 2014-12-10      0               10   \n",
            "\n",
            "     transaction_hour  transaction_weekday  transaction_weekend  \\\n",
            "0                   0                    1                    0   \n",
            "1                   0                    3                    0   \n",
            "2                   0                    3                    0   \n",
            "3                   0                    1                    0   \n",
            "4                   0                    3                    0   \n",
            "..                ...                  ...                  ...   \n",
            "995                 0                    3                    0   \n",
            "996                 0                    5                    1   \n",
            "997                 0                    1                    0   \n",
            "998                 0                    3                    0   \n",
            "999                 0                    2                    0   \n",
            "\n",
            "     transaction_month  transaction_year  log_amount amount_bin  \\\n",
            "0                    6              2018    6.982018     medium   \n",
            "1                    5              2020    7.130411     medium   \n",
            "2                    9              2011    8.895006       high   \n",
            "3                    4              2013    6.076862        low   \n",
            "4                   10              2012    8.255683     medium   \n",
            "..                 ...               ...         ...        ...   \n",
            "995                  8              2013    7.649778     medium   \n",
            "996                  5              2010    8.520207       high   \n",
            "997                  2              2018    8.994433       high   \n",
            "998                 10              2011    8.947442       high   \n",
            "999                 12              2014    9.181967       high   \n",
            "\n",
            "     amount_per_day  amount_per_hour  amount_per_weekday  amount_per_month  \\\n",
            "0         140400.09       5047314.92           702724.34         347742.25   \n",
            "1         205444.57       5047314.92           778147.69         353551.25   \n",
            "2         177182.51       5047314.92           778147.69         390662.38   \n",
            "3         227322.07       5047314.92           702724.34         358462.39   \n",
            "4         153438.90       5047314.92           778147.69         545369.44   \n",
            "..              ...              ...                 ...               ...   \n",
            "995       245279.64       5047314.92           778147.69         467549.77   \n",
            "996       149651.02       5047314.92           815446.69         353551.25   \n",
            "997       159438.87       5047314.92           702724.34         413352.65   \n",
            "998       201030.88       5047314.92           778147.69         545369.44   \n",
            "999       269429.17       5047314.92           724188.30         505993.83   \n",
            "\n",
            "     amount_per_year  fraud_per_account  type_credit  type_debit  \n",
            "0          423359.99                  1            0           1  \n",
            "1          429051.13                  0            0           1  \n",
            "2          409721.44                  0            0           1  \n",
            "3          470988.63                  0            0           1  \n",
            "4          499245.20                  1            1           0  \n",
            "..               ...                ...          ...         ...  \n",
            "995        470988.63                  1            0           1  \n",
            "996        465776.35                  0            0           1  \n",
            "997        423359.99                  0            0           1  \n",
            "998        409721.44                  1            1           0  \n",
            "999        594668.91                  0            0           1  \n",
            "\n",
            "[1000 rows x 20 columns]\n"
          ]
        }
      ]
    },
    {
      "cell_type": "code",
      "source": [
        "from sklearn.model_selection import train_test_split\n",
        "from sklearn.metrics import accuracy_score, precision_score, recall_score, f1_score\n",
        "from sklearn.ensemble import RandomForestClassifier\n",
        "from sklearn.linear_model import LogisticRegression\n",
        "from sklearn.svm import SVC\n",
        "\n",
        "# Split the data into training and test sets\n",
        "X = df.drop(columns=['fraud','date'])\n",
        "y = df['fraud']\n",
        "X_train, X_test, y_train, y_test = train_test_split(X, y, test_size=0.2, random_state=42)\n",
        "\n",
        "# Initialize the models\n",
        "models = {'RandomForest': RandomForestClassifier(),\n",
        "          'LogisticRegression': LogisticRegression(),\n",
        "          'SVM': SVC()}\n",
        "\n",
        "# Train and evaluate the models\n",
        "for name, model in models.items():\n",
        "    model.fit(X_train, y_train)\n",
        "    y_pred = model.predict(X_test)\n",
        "    accuracy = accuracy_score(y_test, y_pred)\n",
        "    precision = precision_score(y_test, y_pred)\n",
        "    recall = recall_score(y_test, y_pred)\n",
        "    f1 = f1_score(y_test, y_pred)\n",
        "    print(f'{name} - Accuracy: {accuracy:.3f}, Precision: {precision:.3f}, Recall: {recall:.3f}, F1: {f1:.3f}')\n"
      ],
      "metadata": {
        "colab": {
          "base_uri": "https://localhost:8080/"
        },
        "id": "KG5O8vXvBB3I",
        "outputId": "4c740e78-fbfe-4492-dd97-4d723a360812"
      },
      "execution_count": null,
      "outputs": [
        {
          "output_type": "stream",
          "name": "stdout",
          "text": [
            "RandomForest - Accuracy: 1.000, Precision: 1.000, Recall: 1.000, F1: 1.000\n",
            "LogisticRegression - Accuracy: 0.470, Precision: 0.000, Recall: 0.000, F1: 0.000\n",
            "SVM - Accuracy: 0.470, Precision: 0.000, Recall: 0.000, F1: 0.000\n"
          ]
        },
        {
          "output_type": "stream",
          "name": "stderr",
          "text": [
            "/usr/local/lib/python3.8/dist-packages/sklearn/metrics/_classification.py:1318: UndefinedMetricWarning: Precision is ill-defined and being set to 0.0 due to no predicted samples. Use `zero_division` parameter to control this behavior.\n",
            "  _warn_prf(average, modifier, msg_start, len(result))\n",
            "/usr/local/lib/python3.8/dist-packages/sklearn/metrics/_classification.py:1318: UndefinedMetricWarning: Precision is ill-defined and being set to 0.0 due to no predicted samples. Use `zero_division` parameter to control this behavior.\n",
            "  _warn_prf(average, modifier, msg_start, len(result))\n"
          ]
        }
      ]
    },
    {
      "cell_type": "code",
      "source": [
        "print(df)"
      ],
      "metadata": {
        "colab": {
          "base_uri": "https://localhost:8080/"
        },
        "id": "931TTxqDFWNQ",
        "outputId": "e59b68f4-c778-4124-8b50-3fe741bc7ccf"
      },
      "execution_count": null,
      "outputs": [
        {
          "output_type": "stream",
          "name": "stdout",
          "text": [
            "      amount       account       date  fraud  transaction_day  \\\n",
            "0    1076.09  075673664569 2018-06-12      1               12   \n",
            "1    1248.39  067602501139 2020-05-28      0               28   \n",
            "2    7294.45  236886055294 2011-09-08      0                8   \n",
            "3     434.66  276993126043 2013-04-16      0               16   \n",
            "4    3848.44  642164390937 2012-10-04      1                4   \n",
            "..       ...           ...        ...    ...              ...   \n",
            "995  2099.18  115434251433 2013-08-15      1               15   \n",
            "996  5014.09  148737745418 2010-05-01      0                1   \n",
            "997  8057.10  986873100075 2018-02-06      0                6   \n",
            "998  7687.20  136961482909 2011-10-13      1               13   \n",
            "999  9719.25  308981220081 2014-12-10      0               10   \n",
            "\n",
            "     transaction_hour  transaction_weekday  transaction_weekend  \\\n",
            "0                   0                    1                    0   \n",
            "1                   0                    3                    0   \n",
            "2                   0                    3                    0   \n",
            "3                   0                    1                    0   \n",
            "4                   0                    3                    0   \n",
            "..                ...                  ...                  ...   \n",
            "995                 0                    3                    0   \n",
            "996                 0                    5                    1   \n",
            "997                 0                    1                    0   \n",
            "998                 0                    3                    0   \n",
            "999                 0                    2                    0   \n",
            "\n",
            "     transaction_month  transaction_year  ...  amount_per_hour  \\\n",
            "0                    6              2018  ...       5047314.92   \n",
            "1                    5              2020  ...       5047314.92   \n",
            "2                    9              2011  ...       5047314.92   \n",
            "3                    4              2013  ...       5047314.92   \n",
            "4                   10              2012  ...       5047314.92   \n",
            "..                 ...               ...  ...              ...   \n",
            "995                  8              2013  ...       5047314.92   \n",
            "996                  5              2010  ...       5047314.92   \n",
            "997                  2              2018  ...       5047314.92   \n",
            "998                 10              2011  ...       5047314.92   \n",
            "999                 12              2014  ...       5047314.92   \n",
            "\n",
            "     amount_per_weekday  amount_per_month  amount_per_year  fraud_per_account  \\\n",
            "0             702724.34         347742.25        423359.99                  1   \n",
            "1             778147.69         353551.25        429051.13                  0   \n",
            "2             778147.69         390662.38        409721.44                  0   \n",
            "3             702724.34         358462.39        470988.63                  0   \n",
            "4             778147.69         545369.44        499245.20                  1   \n",
            "..                  ...               ...              ...                ...   \n",
            "995           778147.69         467549.77        470988.63                  1   \n",
            "996           815446.69         353551.25        465776.35                  0   \n",
            "997           702724.34         413352.65        423359.99                  0   \n",
            "998           778147.69         545369.44        409721.44                  1   \n",
            "999           724188.30         505993.83        594668.91                  0   \n",
            "\n",
            "     type_credit  type_debit  amount_bin_low  amount_bin_medium  \\\n",
            "0              0           1               0                  1   \n",
            "1              0           1               0                  1   \n",
            "2              0           1               0                  0   \n",
            "3              0           1               1                  0   \n",
            "4              1           0               0                  1   \n",
            "..           ...         ...             ...                ...   \n",
            "995            0           1               0                  1   \n",
            "996            0           1               0                  0   \n",
            "997            0           1               0                  0   \n",
            "998            1           0               0                  0   \n",
            "999            0           1               0                  0   \n",
            "\n",
            "     amount_bin_high  \n",
            "0                  0  \n",
            "1                  0  \n",
            "2                  1  \n",
            "3                  0  \n",
            "4                  0  \n",
            "..               ...  \n",
            "995                0  \n",
            "996                1  \n",
            "997                1  \n",
            "998                1  \n",
            "999                1  \n",
            "\n",
            "[1000 rows x 22 columns]\n"
          ]
        }
      ]
    },
    {
      "cell_type": "code",
      "source": [
        "# Select the features\n",
        "selected_features = ['transaction_day', 'transaction_hour', 'transaction_weekday', 'log_amount','amount_bin_low','amount_bin_medium','amount_bin_high','amount_per_day','amount_per_hour','amount_per_weekday','fraud_per_account']\n",
        "X_train_sel = X_train[selected_features]\n",
        "X_test_sel = X_test[selected_features]\n",
        "\n",
        "# Train the selected model on the dataset using the selected features\n",
        "selected_model = RandomForestClassifier()\n",
        "selected_model.fit(X_train_sel, y_train)\n"
      ],
      "metadata": {
        "colab": {
          "base_uri": "https://localhost:8080/"
        },
        "id": "OB7WWXVaBD9Q",
        "outputId": "c508a274-4248-4a05-98d8-b48cb6854144"
      },
      "execution_count": null,
      "outputs": [
        {
          "output_type": "execute_result",
          "data": {
            "text/plain": [
              "RandomForestClassifier()"
            ]
          },
          "metadata": {},
          "execution_count": 21
        }
      ]
    },
    {
      "cell_type": "code",
      "source": [
        "# Make predictions on the test set\n",
        "y_pred = selected_model.predict(X_test_sel)\n",
        "\n",
        "# Evaluate the model's performance\n",
        "accuracy = accuracy_score(y_test, y_pred)\n",
        "precision = precision_score(y_test, y_pred)\n",
        "recall = recall_score(y_test, y_pred)\n",
        "f1 = f1_score(y_test, y_pred)\n",
        "print(f'Accuracy: {accuracy:.3f}, Precision: {precision:.3f}, Recall: {recall:.3f}, F1: {f1:.3f}')\n",
        "\n",
        "# Optimize the model's performance\n",
        "from sklearn.model_selection import GridSearchCV\n",
        "param_grid = {'n_estimators': [10, 50, 100, 200],\n",
        "              'max_depth': [2, 5, 10, 20]}\n",
        "grid_search = GridSearchCV(selected_model, param_grid, cv=5, scoring='f1')\n",
        "grid_search.fit(X_train_sel, y_train)\n",
        "\n",
        "# Print the best parameters and the best score\n",
        "print(f'Best parameters: {grid_search.best_params_}')\n",
        "print(f'Best F1 score: {grid_search.best_score_:.3f}')\n"
      ],
      "metadata": {
        "colab": {
          "base_uri": "https://localhost:8080/"
        },
        "id": "kWVFjoIGFPFf",
        "outputId": "53ce5557-674f-4bb7-c4c0-9b57a7f88d37"
      },
      "execution_count": null,
      "outputs": [
        {
          "output_type": "stream",
          "name": "stdout",
          "text": [
            "Accuracy: 1.000, Precision: 1.000, Recall: 1.000, F1: 1.000\n",
            "Best parameters: {'max_depth': 2, 'n_estimators': 50}\n",
            "Best F1 score: 1.000\n"
          ]
        }
      ]
    },
    {
      "cell_type": "code",
      "source": [
        "import pickle\n",
        "\n",
        "# Save the model to a file\n",
        "with open('fraud_detection_model.pkl', 'wb') as f:\n",
        "    pickle.dump(grid_search.best_estimator_, f)\n",
        "\n",
        "# Load the model from a file\n",
        "with open('fraud_detection_model.pkl', 'rb') as f:\n",
        "    loaded_model = pickle.load(f)\n",
        "\n",
        "# Use the loaded model to make predictions on new data\n",
        "new_data = X_test_sel.iloc[0:1,:]\n",
        "print(new_data)\n",
        "prediction = loaded_model.predict(new_data)\n",
        "print(f'Prediction: {prediction}')\n"
      ],
      "metadata": {
        "colab": {
          "base_uri": "https://localhost:8080/"
        },
        "id": "BQNNSh3FFzyC",
        "outputId": "9ea02818-0205-4e66-9ebe-2cf9ebf55817"
      },
      "execution_count": null,
      "outputs": [
        {
          "output_type": "stream",
          "name": "stdout",
          "text": [
            "     transaction_day  transaction_hour  transaction_weekday  log_amount  \\\n",
            "521                4                 0                    2    9.020219   \n",
            "\n",
            "     amount_bin_low  amount_bin_medium  amount_bin_high  amount_per_day  \\\n",
            "521               0                  0                1        153438.9   \n",
            "\n",
            "     amount_per_hour  amount_per_weekday  fraud_per_account  \n",
            "521       5047314.92            724188.3                  1  \n",
            "Prediction: [1]\n"
          ]
        }
      ]
    },
    {
      "cell_type": "code",
      "source": [
        "\n",
        "# Define a function to calculate the evaluation metrics\n",
        "def evaluate_model(y_true, y_pred):\n",
        "    accuracy = accuracy_score(y_true, y_pred)\n",
        "    precision = precision_score(y_true, y_pred)\n",
        "    recall = recall_score(y_true, y_pred)\n",
        "    f1 = f1_score(y_true, y_pred)\n",
        "    return accuracy, precision, recall, f1\n",
        "\n",
        "# Get the performance metrics for the current model\n",
        "y_pred = loaded_model.predict(X_test_sel)\n",
        "accuracy, precision, recall, f1 = evaluate_model(y_test, y_pred)\n",
        "\n",
        "# Define a threshold for the evaluation metrics\n",
        "thresholds = {'accuracy': 0.95, 'precision': 0.95, 'recall': 0.95, 'f1': 0.95}\n",
        "\n",
        "# Check if the current model's performance is below the threshold\n",
        "if accuracy < thresholds['accuracy'] or precision < thresholds['precision'] or recall < thresholds['recall'] or f1 < thresholds['f1']:\n",
        "    # Retrain the model using more data or different techniques\n",
        "    new_data = pd.read_csv('new_data.csv')\n",
        "    X_new = new_data.drop(columns=['fraud','date'])\n",
        "    y_new = new_data['fraud']\n",
        "    X_new_sel = X_new[selected_features]\n",
        "    X_train_new, X_test_new, y_train_new, y_test_new = train_test_split(X_new_sel, y_new, test_size=0.2, random_state=42)\n",
        "    new_model = RandomForestClassifier()\n",
        "    new_model.fit(X_train_new, y_train_new)\n",
        "    y_pred_new = new_model.predict(X_test_new)\n",
        "    accuracy_new, precision_new, recall_new, f1_new = evaluate_model(y_test_new, y_pred_new)\n",
        "    if accuracy_new > accuracy and precision_new > precision and recall_new > recall and f1_new > f1:\n",
        "        # Update the model\n",
        "        loaded_model = new_model\n",
        "        # Save the updated model to a file\n",
        "        with open('fraud_detection_model.pkl', 'wb') as f:\n",
        "            pickle.dump(loaded_model, f)\n",
        "        print(\"Model updated\")\n",
        "    else:\n",
        "        print(\"Model performance is still good, no update needed\")\n",
        "else:\n",
        "    print(\"Model performance is still good, no update needed\")\n"
      ],
      "metadata": {
        "colab": {
          "base_uri": "https://localhost:8080/"
        },
        "id": "W1uTzAW6F6bt",
        "outputId": "602e32c8-7957-4e35-cd26-a4cd27873b8e"
      },
      "execution_count": null,
      "outputs": [
        {
          "output_type": "stream",
          "name": "stdout",
          "text": [
            "Model performance is still good, no update needed\n"
          ]
        }
      ]
    },
    {
      "cell_type": "code",
      "source": [],
      "metadata": {
        "id": "SWdVGnRaF_X8"
      },
      "execution_count": null,
      "outputs": []
    }
  ]
}